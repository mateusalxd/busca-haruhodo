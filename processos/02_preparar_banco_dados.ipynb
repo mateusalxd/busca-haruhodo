{
 "cells": [
  {
   "cell_type": "markdown",
   "metadata": {},
   "source": [
    "# Instalação dos requisitos"
   ]
  },
  {
   "cell_type": "code",
   "execution_count": 1,
   "metadata": {},
   "outputs": [
    {
     "name": "stdout",
     "output_type": "stream",
     "text": [
      "Requirement already up-to-date: webvtt-py in /opt/conda/lib/python3.8/site-packages (0.4.5)\r\n",
      "Requirement already satisfied, skipping upgrade: docopt in /opt/conda/lib/python3.8/site-packages (from webvtt-py) (0.6.2)\r\n"
     ]
    }
   ],
   "source": [
    "!pip3 install --upgrade webvtt-py"
   ]
  },
  {
   "cell_type": "markdown",
   "metadata": {},
   "source": [
    "# Código"
   ]
  },
  {
   "cell_type": "code",
   "execution_count": 2,
   "metadata": {},
   "outputs": [],
   "source": [
    "import os\n",
    "import webvtt\n",
    "import sqlite3\n",
    "import json\n",
    "import re\n",
    "\n",
    "diretorio_dados = f'{os.path.abspath(\"../dados\")}{os.path.sep}'\n",
    "diretorio_legendas = f'{os.path.abspath(\"../dados/legendas\")}{os.path.sep}'\n",
    "legendas_baixadas = os.listdir(diretorio_legendas)\n"
   ]
  },
  {
   "cell_type": "code",
   "execution_count": 3,
   "metadata": {},
   "outputs": [],
   "source": [
    "def carregar_dados_playlist():\n",
    "    with open(f'{diretorio_dados}playlist.json', 'r') as arquivo:\n",
    "        return json.load(arquivo)\n"
   ]
  },
  {
   "cell_type": "code",
   "execution_count": 4,
   "metadata": {},
   "outputs": [],
   "source": [
    "def carregar_legendas(conexao, legendas, dados):\n",
    "    resumo = {dado['id']: dado['title']\n",
    "              for dado in dados['entries'] if dado['title'] != '[Private video]'}\n",
    "    dados_insercao = list()\n",
    "    ids_existentes = [id_youtube[0] for id_youtube in conexao.execute(\n",
    "        'select id_youtube from episodio').fetchall()]\n",
    "\n",
    "    for legenda in legendas:\n",
    "        id_video = legenda.split('.')[0]\n",
    "\n",
    "        if not id_video in ids_existentes:\n",
    "            titulo = resumo[id_video]\n",
    "            resultado = re.findall(r'(#\\s*)(\\d+)', titulo)\n",
    "            if len(resultado) > 0:\n",
    "                numero_episodio = re.findall(r'(#\\s*)(\\d+)', titulo)[0][1]\n",
    "                conexao.execute('insert into episodio values (?, ?, ?)',\n",
    "                                (numero_episodio, id_video, titulo))\n",
    "\n",
    "                for conteudo in webvtt.read(os.path.join(diretorio_legendas, legenda)):\n",
    "                    conexao.execute('insert into legenda values (?, ?, ?, ?, ?)', (\n",
    "                        None, numero_episodio, conteudo.start, conteudo.end, conteudo.text))\n",
    "\n",
    "    conexao.commit()\n"
   ]
  },
  {
   "cell_type": "code",
   "execution_count": 5,
   "metadata": {},
   "outputs": [],
   "source": [
    "def executar():\n",
    "    with sqlite3.connect(f'{diretorio_dados}dados.db') as conexao:\n",
    "        conexao.execute('''\n",
    "        create table if not exists episodio (\n",
    "            id_episodio integer primary key not null,\n",
    "            id_youtube text not null,\n",
    "            titulo text not null\n",
    "        );\n",
    "        ''')\n",
    "\n",
    "        conexao.execute('''        \n",
    "        create table if not exists legenda (\n",
    "            id_legenda integer primary key autoincrement not null,\n",
    "            id_episodio integer not null,\n",
    "            inicio time not null,\n",
    "            fim time not null,\n",
    "            conteudo text not null,\n",
    "            foreign key(id_episodio) references episodio(id_episodio)\n",
    "        );\n",
    "        ''')\n",
    "\n",
    "        dados = carregar_dados_playlist()\n",
    "        carregar_legendas(conexao, legendas_baixadas, dados)\n",
    "        print('Processo concluído')\n"
   ]
  },
  {
   "cell_type": "code",
   "execution_count": 6,
   "metadata": {},
   "outputs": [
    {
     "name": "stdout",
     "output_type": "stream",
     "text": [
      "Processo concluído\n"
     ]
    }
   ],
   "source": [
    "executar()"
   ]
  },
  {
   "cell_type": "markdown",
   "metadata": {},
   "source": [
    "# Referências"
   ]
  },
  {
   "cell_type": "markdown",
   "metadata": {},
   "source": [
    "[sqlite3 — DB-API 2.0 interface for SQLite databases](https://docs.python.org/3/library/sqlite3.html)\n",
    "\n",
    "[Datatypes In SQLite Version 3](https://sqlite.org/datatype3.html)"
   ]
  }
 ],
 "metadata": {
  "kernelspec": {
   "display_name": "Python 3",
   "language": "python",
   "name": "python3"
  },
  "language_info": {
   "codemirror_mode": {
    "name": "ipython",
    "version": 3
   },
   "file_extension": ".py",
   "mimetype": "text/x-python",
   "name": "python",
   "nbconvert_exporter": "python",
   "pygments_lexer": "ipython3",
   "version": "3.8.5"
  }
 },
 "nbformat": 4,
 "nbformat_minor": 4
}
