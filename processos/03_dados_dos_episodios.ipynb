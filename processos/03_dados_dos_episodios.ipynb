{
 "cells": [
  {
   "cell_type": "code",
   "execution_count": 1,
   "metadata": {},
   "outputs": [],
   "source": [
    "import requests\n",
    "import time\n",
    "import random\n",
    "import json\n",
    "import os\n",
    "import sqlite3"
   ]
  },
  {
   "cell_type": "code",
   "execution_count": 2,
   "metadata": {},
   "outputs": [],
   "source": [
    "diretorio_dados = f'{os.path.abspath(\"../dados\")}{os.path.sep}'"
   ]
  },
  {
   "cell_type": "code",
   "execution_count": 3,
   "metadata": {},
   "outputs": [],
   "source": [
    " def baixar_dados_episodios():\n",
    "    TEMPO_MINIMO=3.0\n",
    "    TEMPO_MAXIMO=15.0\n",
    "\n",
    "    resultados = list()\n",
    "    url_inicial = 'https://api.simplecast.com/podcasts/ab2964e7-bcad-4f2f-9698-45cb681f0d69/episodes?limit=15&offset=0&private=false&sort=desc&status=published'\n",
    "    headers = {\n",
    "        'authority': 'api.simplecast.com',\n",
    "        'accept': 'application/json, text/plain, */*',\n",
    "        'user-agent': 'Mozilla/5.0 (X11; Linux x86_64) AppleWebKit/537.36 (KHTML, like Gecko) Chrome/85.0.4183.121 Safari/537.36',\n",
    "        'dnt': '1',\n",
    "        'sec-fetch-site': 'same-site',\n",
    "        'sec-fetch-mode': 'cors',\n",
    "        'sec-fetch-dest': 'empty',    \n",
    "        'origin': 'https://naruhodo-615be80d.simplecast.com',\n",
    "        'referer': 'https://naruhodo-615be80d.simplecast.com/',\n",
    "        'accept-language': 'en-US,en;q=0.9,pt-BR;q=0.8,pt;q=0.7'\n",
    "    }\n",
    "    requisicao = requests.get(url_inicial, headers=headers)\n",
    "    resultado = requisicao.json()\n",
    "    resultados.extend(resultado['collection'])\n",
    "    print(f'Página 1 de {resultado[\"pages\"][\"total\"]}.')\n",
    "\n",
    "    while resultado['pages']['next'] != None:\n",
    "        url = resultado['pages']['next']['href']\n",
    "        soneca = random.uniform(TEMPO_MINIMO, TEMPO_MAXIMO)\n",
    "        print(f'Sleep {soneca:.2f}')\n",
    "        time.sleep(soneca)\n",
    "\n",
    "        requisicao = requests.get(url, headers=headers)\n",
    "        resultado = requisicao.json()\n",
    "        resultados.extend(resultado['collection'])\n",
    "        print(f'Página {resultado[\"pages\"][\"current\"]} de {resultado[\"pages\"][\"total\"]}.')\n",
    "    \n",
    "    return resultados"
   ]
  },
  {
   "cell_type": "code",
   "execution_count": 4,
   "metadata": {},
   "outputs": [],
   "source": [
    "def salvar_dados_episodios(dados):\n",
    "    with open(f'{diretorio_dados}episodios.json', 'w') as arquivo:\n",
    "        json.dump(dados, arquivo)"
   ]
  },
  {
   "cell_type": "code",
   "execution_count": 5,
   "metadata": {},
   "outputs": [],
   "source": [
    "def executar():\n",
    "    with sqlite3.connect(f'{diretorio_dados}dados_episodios.db') as conexao:\n",
    "        conexao.execute('''\n",
    "        CREATE TABLE IF NOT EXISTS episodio (\n",
    "            id TEXT NOT NULL PRIMARY KEY,\n",
    "            numero INTEGER,\n",
    "            titulo TEXT,\n",
    "            descricao TEXT,\n",
    "            duracao INTEGER,\n",
    "            pulicacao DATETIME\n",
    "        );\n",
    "        ''')\n",
    "        \n",
    "        episodeos = baixar_dados_episodios()\n",
    "        salvar_dados_episodios(episodeos)\n",
    "        \n",
    "        existentes = {item[0] for item in conexao.execute('select id from episodio').fetchall()}\n",
    "        \n",
    "        for episodio in episodeos:\n",
    "            if not episodio['id'] in existentes:\n",
    "                conexao.execute('insert into episodio values (?, ?, ?, ?, ?, ?)', \n",
    "                                (episodio['id'], episodio['number'], episodio['title'], episodio['description'], episodio['duration'], episodio['published_at']))\n",
    "        \n",
    "        print('Processo concluído')"
   ]
  },
  {
   "cell_type": "code",
   "execution_count": 6,
   "metadata": {},
   "outputs": [
    {
     "name": "stdout",
     "output_type": "stream",
     "text": [
      "Página 1 de 20.\n",
      "Sleep 6.06\n",
      "Página 2 de 20.\n",
      "Sleep 5.22\n",
      "Página 3 de 20.\n",
      "Sleep 12.01\n",
      "Página 4 de 20.\n",
      "Sleep 11.55\n",
      "Página 5 de 20.\n",
      "Sleep 9.13\n",
      "Página 6 de 20.\n",
      "Sleep 8.87\n",
      "Página 7 de 20.\n",
      "Sleep 4.87\n",
      "Página 8 de 20.\n",
      "Sleep 7.34\n",
      "Página 9 de 20.\n",
      "Sleep 12.89\n",
      "Página 10 de 20.\n",
      "Sleep 10.53\n",
      "Página 11 de 20.\n",
      "Sleep 8.82\n",
      "Página 12 de 20.\n",
      "Sleep 13.95\n",
      "Página 13 de 20.\n",
      "Sleep 8.13\n",
      "Página 14 de 20.\n",
      "Sleep 8.66\n",
      "Página 15 de 20.\n",
      "Sleep 7.59\n",
      "Página 16 de 20.\n",
      "Sleep 7.20\n",
      "Página 17 de 20.\n",
      "Sleep 6.87\n",
      "Página 18 de 20.\n",
      "Sleep 3.20\n",
      "Página 19 de 20.\n",
      "Sleep 14.14\n",
      "Página 20 de 20.\n",
      "Processo concluído\n"
     ]
    }
   ],
   "source": [
    "executar()"
   ]
  },
  {
   "cell_type": "code",
   "execution_count": null,
   "metadata": {},
   "outputs": [],
   "source": []
  }
 ],
 "metadata": {
  "kernelspec": {
   "display_name": "Python 3",
   "language": "python",
   "name": "python3"
  },
  "language_info": {
   "codemirror_mode": {
    "name": "ipython",
    "version": 3
   },
   "file_extension": ".py",
   "mimetype": "text/x-python",
   "name": "python",
   "nbconvert_exporter": "python",
   "pygments_lexer": "ipython3",
   "version": "3.8.2"
  }
 },
 "nbformat": 4,
 "nbformat_minor": 4
}
