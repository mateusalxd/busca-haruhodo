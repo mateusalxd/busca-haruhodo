{
 "cells": [
  {
   "cell_type": "markdown",
   "metadata": {},
   "source": [
    "# * * * * * ATENÇÃO * * * * *\n",
    "\n",
    "Essa abordagem bloqueia o IP"
   ]
  },
  {
   "cell_type": "markdown",
   "metadata": {},
   "source": [
    "# Instalação dos requisitos"
   ]
  },
  {
   "cell_type": "code",
   "execution_count": 1,
   "metadata": {},
   "outputs": [
    {
     "name": "stdout",
     "output_type": "stream",
     "text": [
      "Collecting youtube-dl\n",
      "  Downloading youtube_dl-2020.9.20-py2.py3-none-any.whl (1.8 MB)\n",
      "\u001b[K     |████████████████████████████████| 1.8 MB 867 kB/s eta 0:00:01\n",
      "\u001b[?25hInstalling collected packages: youtube-dl\n",
      "Successfully installed youtube-dl-2020.9.20\n"
     ]
    }
   ],
   "source": [
    "!pip3 install --upgrade youtube-dl"
   ]
  },
  {
   "cell_type": "markdown",
   "metadata": {},
   "source": [
    "# Código"
   ]
  },
  {
   "cell_type": "code",
   "execution_count": 2,
   "metadata": {},
   "outputs": [],
   "source": [
    "import youtube_dl\n",
    "import os\n",
    "import json\n",
    "\n",
    "diretorio_dados = f'{os.path.abspath(\"../dados\")}{os.path.sep}'\n",
    "diretorio_legendas = f'{os.path.abspath(\"../dados/legendas\")}{os.path.sep}'\n",
    "formato_arquivo = f'{diretorio_legendas}%(id)s.%(ext)s'\n"
   ]
  },
  {
   "cell_type": "code",
   "execution_count": 3,
   "metadata": {},
   "outputs": [],
   "source": [
    "def extrair_dados_playlist(url_playlist):\n",
    "    ydl_opts = {\n",
    "        'extract_flat': True,\n",
    "        'dump_single_json': True,\n",
    "        'skip_download': True,\n",
    "        'sleep_interval': 5,\n",
    "        'quiet': True\n",
    "    }\n",
    "\n",
    "    with youtube_dl.YoutubeDL(ydl_opts) as ydl:\n",
    "        return ydl.extract_info(url_playlist)\n"
   ]
  },
  {
   "cell_type": "code",
   "execution_count": 4,
   "metadata": {},
   "outputs": [],
   "source": [
    "def baixar_legendas(urls, formato_legenda, formato_saida):\n",
    "    ydl_opts = {\n",
    "        'writeautomaticsub': True,\n",
    "        'subtitleslangs': ['pt'],\n",
    "        'subtitlesformat': formato_legenda,\n",
    "        'skip_download': True,\n",
    "        'outtmpl': formato_saida,\n",
    "        'ignoreerrors': True,\n",
    "        'sleep_interval': 5,\n",
    "        'quiet': True\n",
    "    }\n",
    "\n",
    "    with youtube_dl.YoutubeDL(ydl_opts) as ydl:\n",
    "        ydl.download(urls)\n"
   ]
  },
  {
   "cell_type": "code",
   "execution_count": 5,
   "metadata": {},
   "outputs": [],
   "source": [
    "def salvar_dados_playlist(dados):\n",
    "    with open(f'{diretorio_dados}playlist.json', 'w') as arquivo:\n",
    "        json.dump(dados, arquivo)\n"
   ]
  },
  {
   "cell_type": "code",
   "execution_count": 6,
   "metadata": {},
   "outputs": [],
   "source": [
    "def executar():\n",
    "    dados = extrair_dados_playlist(\n",
    "        'https://www.youtube.com/playlist?list=PLZjaOxYREinv5RgR-T1ObnljITmsPIZWa')\n",
    "    salvar_dados_playlist(dados)\n",
    "\n",
    "    ids_legendas_baixadas = [\n",
    "        legenda.split('.')[0] for legenda in os.listdir(diretorio_legendas)]\n",
    "    ids_videos_playlist = [\n",
    "        dado['id'] for dado in dados['entries'] if dado['title'] != '[Private video]']\n",
    "    urls = list()\n",
    "\n",
    "    for id_video in ids_videos_playlist:\n",
    "        if not id_video in ids_legendas_baixadas:\n",
    "            urls.append(id_video)\n",
    "\n",
    "    print(f'Legendas para serem baixadas: {len(urls)}')\n",
    "    baixar_legendas(urls, 'ttml', formato_arquivo)\n",
    "    print('Processo concluído')\n"
   ]
  },
  {
   "cell_type": "code",
   "execution_count": 7,
   "metadata": {},
   "outputs": [
    {
     "name": "stdout",
     "output_type": "stream",
     "text": [
      "Legendas para serem baixadas: 8\n"
     ]
    },
    {
     "name": "stderr",
     "output_type": "stream",
     "text": [
      "WARNING: Couldn't find automatic captions for X5xdn0syOfI\n",
      "WARNING: Couldn't find automatic captions for E2lqpHlD6dM\n"
     ]
    },
    {
     "name": "stdout",
     "output_type": "stream",
     "text": [
      "Processo concluído\n"
     ]
    }
   ],
   "source": [
    "executar()"
   ]
  },
  {
   "cell_type": "markdown",
   "metadata": {},
   "source": [
    "# Referências"
   ]
  },
  {
   "cell_type": "markdown",
   "metadata": {},
   "source": [
    "[How to download only subtitles of videos using youtube-dl](https://superuser.com/questions/927523/how-to-download-only-subtitles-of-videos-using-youtube-dl)\n",
    "\n",
    "[EMBEDDING YOUTUBE-DL](https://github.com/ytdl-org/youtube-dl/blob/master/README.md#embedding-youtube-dl)\n",
    "\n",
    "[youtube_dl/YoutubeDL.py](https://github.com/ytdl-org/youtube-dl/blob/3e4cedf9e8cd3157df2457df7274d0c842421945/youtube_dl/YoutubeDL.py#L137-L312)\n",
    "\n",
    "[Get parent of current directory using Python](https://www.geeksforgeeks.org/get-parent-of-current-directory-using-python)\n",
    "\n",
    "[Resume downloading consequent videos when youtubeDL fails to download a video](https://stackoverflow.com/questions/35198155/resume-downloading-consequent-videos-when-youtubedl-fails-to-download-a-video)\n",
    "\n",
    "[Error: Content_html](https://www.reddit.com/r/youtubedl/comments/hbo0gd/error_content_html/)\n",
    "\n",
    "[youtube-dl; Como baixar apenas a lista de reprodução, não os arquivos nela](https://qastack.com.br/superuser/1341684/youtube-dl-how-download-only-the-playlist-not-the-files-therein)\n",
    "\n",
    "[Reading and Writing JSON to a File in Python](https://stackabuse.com/reading-and-writing-json-to-a-file-in-python/)"
   ]
  }
 ],
 "metadata": {
  "kernelspec": {
   "display_name": "Python 3",
   "language": "python",
   "name": "python3"
  },
  "language_info": {
   "codemirror_mode": {
    "name": "ipython",
    "version": 3
   },
   "file_extension": ".py",
   "mimetype": "text/x-python",
   "name": "python",
   "nbconvert_exporter": "python",
   "pygments_lexer": "ipython3",
   "version": "3.8.2"
  }
 },
 "nbformat": 4,
 "nbformat_minor": 4
}
