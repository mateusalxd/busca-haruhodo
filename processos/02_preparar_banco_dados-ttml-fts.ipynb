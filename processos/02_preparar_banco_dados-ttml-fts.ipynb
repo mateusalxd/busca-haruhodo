{
 "cells": [
  {
   "cell_type": "markdown",
   "metadata": {},
   "source": [
    "# Código"
   ]
  },
  {
   "cell_type": "code",
   "execution_count": 1,
   "metadata": {},
   "outputs": [],
   "source": [
    "import os\n",
    "import sqlite3\n",
    "import json\n",
    "import re\n",
    "from bs4 import BeautifulSoup\n",
    "\n",
    "diretorio_dados = f'{os.path.abspath(\"../dados\")}{os.path.sep}'\n",
    "diretorio_legendas = f'{os.path.abspath(\"../dados/legendas\")}{os.path.sep}'\n",
    "legendas_baixadas = os.listdir(diretorio_legendas)\n"
   ]
  },
  {
   "cell_type": "code",
   "execution_count": 2,
   "metadata": {},
   "outputs": [],
   "source": [
    "def carregar_dados_playlist():\n",
    "    with open(f'{diretorio_dados}playlist.json', 'r') as arquivo:\n",
    "        return json.load(arquivo)\n"
   ]
  },
  {
   "cell_type": "code",
   "execution_count": 3,
   "metadata": {},
   "outputs": [],
   "source": [
    "def carregar_arquivo_ttml(diretorio):\n",
    "    conteudo = None\n",
    "    with open(diretorio, 'r') as arquivo:\n",
    "        conteudo = BeautifulSoup(arquivo.read(), 'html.parser')\n",
    "\n",
    "    frases = list()\n",
    "    for paragrafo in conteudo.find_all('p'):\n",
    "        frases.append([paragrafo.attrs['begin'],\n",
    "                       paragrafo.attrs['end'],\n",
    "                       ' '.join(paragrafo.contents)])\n",
    "\n",
    "    return frases\n"
   ]
  },
  {
   "cell_type": "code",
   "execution_count": 4,
   "metadata": {},
   "outputs": [],
   "source": [
    "def carregar_legendas(conexao, legendas, dados):\n",
    "    resumo = {dado['id']: dado['title']\n",
    "              for dado in dados['entries'] if dado['title'] != '[Private video]'}\n",
    "    dados_insercao = list()\n",
    "    ids_existentes = [id_youtube[0] for id_youtube in conexao.execute(\n",
    "        'select distinct id_youtube from episodio').fetchall()]\n",
    "\n",
    "    for legenda in legendas:\n",
    "        id_video = legenda.split('.')[0]\n",
    "\n",
    "        if not id_video in ids_existentes:\n",
    "            titulo = resumo[id_video]\n",
    "            resultado = re.findall(r'(#\\s*)(\\d+)', titulo)\n",
    "            if len(resultado) > 0:\n",
    "                numero_episodio = re.findall(r'(#\\s*)(\\d+)', titulo)[0][1]\n",
    "\n",
    "                for conteudo in carregar_arquivo_ttml(os.path.join(diretorio_legendas, legenda)):\n",
    "                    conexao.execute('insert into episodio values (?, ?, ?, ?, ?, ?)',\n",
    "                                    (id_video, numero_episodio, conteudo[0], conteudo[1], titulo, conteudo[2]))\n",
    "\n",
    "    conexao.commit()\n"
   ]
  },
  {
   "cell_type": "code",
   "execution_count": 5,
   "metadata": {},
   "outputs": [],
   "source": [
    "def executar():\n",
    "    with sqlite3.connect(f'{diretorio_dados}dados_fts.db') as conexao:\n",
    "        conexao.execute('''\n",
    "        CREATE VIRTUAL TABLE IF NOT EXISTS episodio USING fts5(\n",
    "            id_youtube UNINDEXED, \n",
    "            numero UNINDEXED, \n",
    "            inicio UNINDEXED,\n",
    "            fim UNINDEXED,\n",
    "            titulo, \n",
    "            conteudo\n",
    "        );\n",
    "        ''')\n",
    "\n",
    "        dados = carregar_dados_playlist()\n",
    "        carregar_legendas(conexao, legendas_baixadas, dados)\n",
    "        print('Processo concluído')\n"
   ]
  },
  {
   "cell_type": "code",
   "execution_count": 6,
   "metadata": {},
   "outputs": [
    {
     "name": "stdout",
     "output_type": "stream",
     "text": [
      "Processo concluído\n"
     ]
    }
   ],
   "source": [
    "executar()"
   ]
  },
  {
   "cell_type": "markdown",
   "metadata": {},
   "source": [
    "# Referências"
   ]
  },
  {
   "cell_type": "markdown",
   "metadata": {},
   "source": [
    "[SQLite FTS5 Extension](https://www.sqlite.org/fts5.html)\n",
    "\n",
    "[The Spellfix1 Virtual Table](https://www.sqlite.org/spellfix1.html)"
   ]
  }
 ],
 "metadata": {
  "kernelspec": {
   "display_name": "Python 3",
   "language": "python",
   "name": "python3"
  },
  "language_info": {
   "codemirror_mode": {
    "name": "ipython",
    "version": 3
   },
   "file_extension": ".py",
   "mimetype": "text/x-python",
   "name": "python",
   "nbconvert_exporter": "python",
   "pygments_lexer": "ipython3",
   "version": "3.8.5"
  }
 },
 "nbformat": 4,
 "nbformat_minor": 4
}
